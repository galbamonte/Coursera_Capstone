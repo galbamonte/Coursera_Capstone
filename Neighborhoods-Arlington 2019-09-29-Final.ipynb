{
 "cells": [
  {
   "cell_type": "markdown",
   "metadata": {},
   "source": [
    "<h1 align=center><font size = 5>Segmenting and Clustering Neighborhoods in Arlington, VA</font></h1>"
   ]
  },
  {
   "cell_type": "markdown",
   "metadata": {},
   "source": [
    "## Introduction\n",
    "\n",
    "In this project, we will demonstrate how to convert addresses into their equivalent latitude and longitude values. Also, we will use the Foursquare API to explore neighborhoods in Arlington, VA. We will use the **explore** function in the Foursquar API to get the most common venue categories in each neighborhood, and then use this feature to group the neighborhoods into clusters. We will use the \"Logistic Regression\" algorithm to identify the features that predict whether a neigborhood is a Metro station. \n",
    "\n",
    "The expectation is that the algorith will identify false-positives, i.e., neighborhoods that are developed like Metro Stations, but which are not.  These false-postive neighborhoods would be expected to further develop like the Metro Station neighborhoods. "
   ]
  },
  {
   "cell_type": "markdown",
   "metadata": {},
   "source": [
    "If you want to follow along, skip over the two lines to install and import folium.  \n",
    "Then, execute the line that imports numpy and pandas, et al."
   ]
  },
  {
   "cell_type": "markdown",
   "metadata": {},
   "source": [
    "## Table of Contents\n",
    "\n",
    "<div class=\"alert alert-block alert-info\" style=\"margin-top: 20px\">\n",
    "\n",
    "<font size = 3>\n",
    "\n",
    "1. <a href=\"#item1\">Import the required libraries</a>\n",
    "\n",
    "2. <a href=\"#item2\">Identify Neighborhoods in Arlington, VA</a>\n",
    "\n",
    "3. <a href=\"#item3\">Use the Foursquare API to Analyze Venues in Each Neighborhood</a>\n",
    "\n",
    "4. <a href=\"#item4\">Clean the data for use with Logistic Regression</a>\n",
    "\n",
    "5. <a href=\"#item5\">Perform Logistic Regression</a>\n",
    "\n",
    "6. <a href=\"#item6\">Evaluate the Logistic Regression Coefficient Matrix</a>    \n",
    "\n",
    "7. <a href=\"#item6\">Conclusion</a>    \n",
    "</font>\n",
    "</div>"
   ]
  },
  {
   "cell_type": "markdown",
   "metadata": {},
   "source": [
    "We can skip the following installs and imports of folium, since we need not do the mapping. "
   ]
  },
  {
   "cell_type": "markdown",
   "metadata": {},
   "source": [
    "## 1. Execute this cell to import the required libraries"
   ]
  },
  {
   "cell_type": "code",
   "execution_count": 1,
   "metadata": {
    "jupyter": {
     "outputs_hidden": false
    }
   },
   "outputs": [
    {
     "name": "stdout",
     "output_type": "stream",
     "text": [
      "Libraries imported.\n"
     ]
    }
   ],
   "source": [
    "import numpy as np # library to handle data in a vectorized manner\n",
    "\n",
    "import pandas as pd # library for data analsysis\n",
    "pd.set_option('display.max_columns', None)\n",
    "pd.set_option('display.max_rows', None)\n",
    "\n",
    "import json # library to handle JSON files\n",
    "\n",
    "from geopy.geocoders import Nominatim # convert an address into latitude and longitude values\n",
    "\n",
    "import requests # library to handle requests\n",
    "from pandas.io.json import json_normalize # tranform JSON file into a pandas dataframe\n",
    "\n",
    "# Matplotlib and associated plotting modules\n",
    "import matplotlib.cm as cm\n",
    "import matplotlib.colors as colors\n",
    "\n",
    "# import k-means from clustering stage\n",
    "from sklearn.cluster import KMeans\n",
    "\n",
    "print('Libraries imported.')"
   ]
  },
  {
   "cell_type": "markdown",
   "metadata": {},
   "source": [
    "### Skip all this, all the way to 4),  and pick-up the csv file that contains the categorized venues by neighborhood\n",
    "You can read-though all the intermediate steps, but if you want to pick-up the data I used, just import it at section 4."
   ]
  },
  {
   "cell_type": "code",
   "execution_count": null,
   "metadata": {},
   "outputs": [],
   "source": [
    "#!conda install -c conda-forge geopy --yes "
   ]
  },
  {
   "cell_type": "code",
   "execution_count": null,
   "metadata": {},
   "outputs": [],
   "source": [
    "# On the IBM Cloud Watson, it is necessary to \"install\" folium once per session\n",
    "!conda install -c conda-forge folium=0.5.0 --yes "
   ]
  },
  {
   "cell_type": "code",
   "execution_count": null,
   "metadata": {},
   "outputs": [],
   "source": [
    "# Once installed, if you lose the Kernel you can repeatedly import folium\n",
    "import folium # map rendering library"
   ]
  },
  {
   "cell_type": "code",
   "execution_count": null,
   "metadata": {},
   "outputs": [],
   "source": [
    "# This path tells me where I must download folium\n",
    "#import sys\n",
    "#sys.path"
   ]
  },
  {
   "cell_type": "markdown",
   "metadata": {},
   "source": [
    "<a id='item1'></a>"
   ]
  },
  {
   "cell_type": "markdown",
   "metadata": {},
   "source": [
    "## 2. Identify the Neighborhoods in Arlington and Get their Geo-Code"
   ]
  },
  {
   "cell_type": "markdown",
   "metadata": {},
   "source": [
    "There are 55 neighborhoods in Arlington, VA, listed below.  We will get their geo-coordinates, using geocoder.geocode.  Then, we will use the Foursquare API to identify all the venues within radius = 5 of the neighborhoods' central points."
   ]
  },
  {
   "cell_type": "markdown",
   "metadata": {},
   "source": [
    "I've stored the list of neighborhoods, and their geo-coordinates in a file named: ArlingtonNeighborhoods.csv"
   ]
  },
  {
   "cell_type": "markdown",
   "metadata": {},
   "source": [
    "In order to define an instance of the geocoder, we need to define a user_agent. We will name our agent <em>ny_explorer</em>, as shown below."
   ]
  },
  {
   "cell_type": "markdown",
   "metadata": {},
   "source": [
    "#### Use geopy library to get the latitude and longitude values of each nieghborhood in Arlington, VA."
   ]
  },
  {
   "cell_type": "code",
   "execution_count": null,
   "metadata": {},
   "outputs": [],
   "source": [
    "neighborhoods = [\n",
    "    'Alcova Heights','Arlington Forest','Arlington Heights','Arlington View','Aurora Hills','Ballston','Barcroft','Bellevue Forest','Bluemont','Bonair',\n",
    "    'Brandon Village','Buckingham','Carlin Springs','Cherrydale','Claremont','Clarendon','Columbia Forest','Columbia Heights','Court House','Country Club Hills',\n",
    "    'Crescent Hills','Crystal City','Dominion Hills','Donaldson Run','Douglas Park','East Falls Church','Fairlington','Forest Hills',\n",
    "    'Fort Myer Heights','Glencarlyn','Garden City','Greenbrier','High View Park','Halls Hill','Jackson Court','Lee Heights','Lyon Park','Madison Manor',\n",
    "    'Maywood','Reagan National Airport','New Dover','Nauck','Green Valley','Old Glebe','Lee Knolls','Penrose', 'Pentagon','Pentagon City','Prospect House',\n",
    "    'Rivercrest', 'Rosslyn','Shirlington','Tara','Virginia Square','Woodlawn','Waverly Hills','Westmont','Westover','Williamsburg Village','Yorktown']"
   ]
  },
  {
   "cell_type": "markdown",
   "metadata": {},
   "source": [
    "## You can skip this next cell and merely read the file, \n",
    "## \"ArlingtonNeighborhoods.csv\", further down.\n",
    "Skip this cell and look a few rows down for the \"read_csv()\" where I read the csv."
   ]
  },
  {
   "cell_type": "code",
   "execution_count": null,
   "metadata": {
    "jupyter": {
     "outputs_hidden": false
    },
    "scrolled": false
   },
   "outputs": [],
   "source": [
    "list_neighborhoods_geo = []\n",
    "counter=0\n",
    "for address in neighborhoods:\n",
    "    print(address)\n",
    "    geolocator = Nominatim(user_agent=\"ny_explorer\")\n",
    "    location = geolocator.geocode(address + ', Arlington, VA')\n",
    "    latitude = 0\n",
    "    longitude = 0\n",
    "    if location == None:\n",
    "        location = pd.DataFrame(columns=['Borough','Neighbourhood','Latitude','Longitude'])\n",
    "#       print('   ','Print: ', address)\n",
    "    else:\n",
    "        latitude = location.latitude\n",
    "        longitude = location.longitude\n",
    "#       print('   ',location)\n",
    "    print('Location: ' + address + ' are {}, {}.'.format(latitude, longitude))\n",
    "    list_neighborhoods_geo.append([ 'Arlington', address ,latitude, longitude])\n",
    "#End For"
   ]
  },
  {
   "cell_type": "code",
   "execution_count": null,
   "metadata": {},
   "outputs": [],
   "source": [
    "list_neighborhoods_geo\n",
    "df_neighborhoods_geo = pd.DataFrame(list_neighborhoods_geo, columns= ['Borough','Neighbourhood','Latitude','Longitude'])\n",
    "df_neighborhoods_geo.shape"
   ]
  },
  {
   "cell_type": "code",
   "execution_count": null,
   "metadata": {},
   "outputs": [],
   "source": [
    "df_neighborhoods_geo.set_index('Neighbourhood',inplace=True)"
   ]
  },
  {
   "cell_type": "code",
   "execution_count": null,
   "metadata": {},
   "outputs": [],
   "source": [
    "# The geocoder gave the same coordinates for \"Old Glebe\" and \"Prospect House\" neighborhoods, \n",
    "#  but I knew that these neighborhoos are nowhere near each other\n",
    "#\n",
    "print('Before: ______________')\n",
    "print(df_neighborhoods_geo.loc['Old Glebe'])\n",
    "df_neighborhoods_geo.loc['Old Glebe',['Latitude','Longitude']]=[38.9202797,-77.1381758]\n",
    "print()\n",
    "print('After : ______________')\n",
    "print(df_neighborhoods_geo.loc['Old Glebe'])"
   ]
  },
  {
   "cell_type": "code",
   "execution_count": null,
   "metadata": {},
   "outputs": [],
   "source": [
    "print(df_neighborhoods_geo.head())"
   ]
  },
  {
   "cell_type": "code",
   "execution_count": null,
   "metadata": {},
   "outputs": [],
   "source": [
    "df_neighborhoods_geo.reset_index(inplace=True)\n",
    "df_neighborhoods_geo.to_csv (r'C:\\Users\\George\\Downloads\\ArlingtonNeighborhoods.csv', index = None, header=True)"
   ]
  },
  {
   "cell_type": "markdown",
   "metadata": {},
   "source": [
    "### We now have Arlington Neighborhood Geo-coded\n",
    "There is no need to execute above this line again: We can load geo-coded neighborhoods and run from here."
   ]
  },
  {
   "cell_type": "code",
   "execution_count": null,
   "metadata": {},
   "outputs": [],
   "source": [
    "# Set the dataframe to Nothing, so we know we're getting the neighborhood geo-coordinates from the .csv\n",
    "df_neighborhoods_geo=[]\n",
    "print(df_neighborhoods_geo)"
   ]
  },
  {
   "cell_type": "code",
   "execution_count": null,
   "metadata": {},
   "outputs": [],
   "source": [
    "df_neighborhoods_geo = pd.read_csv(r'C:\\Users\\George\\Downloads\\ArlingtonNeighborhoods.csv')\n",
    "#Note that we saved it with an index, but read it without an index."
   ]
  },
  {
   "cell_type": "code",
   "execution_count": null,
   "metadata": {},
   "outputs": [],
   "source": [
    "df_neighborhoods_geo.head()"
   ]
  },
  {
   "cell_type": "markdown",
   "metadata": {},
   "source": [
    "### We can skip this mapping task until later, when we are ready to show and see the map(s)"
   ]
  },
  {
   "cell_type": "code",
   "execution_count": null,
   "metadata": {},
   "outputs": [],
   "source": [
    "address = 'Arlington, VA'\n",
    "\n",
    "geolocator = Nominatim(user_agent=\"ny_explorer\")\n",
    "location = geolocator.geocode(address)\n",
    "latitude = location.latitude\n",
    "longitude = location.longitude\n",
    "print('The geograpical coordinate of ' + address +' are {}, {}.'.format(latitude, longitude))"
   ]
  },
  {
   "cell_type": "markdown",
   "metadata": {},
   "source": [
    "#### Create a map of Arlington with neighborhoods superimposed on top."
   ]
  },
  {
   "cell_type": "code",
   "execution_count": null,
   "metadata": {
    "jupyter": {
     "outputs_hidden": false
    },
    "scrolled": false
   },
   "outputs": [],
   "source": [
    "# create map of Arlington using latitude and longitude values\n",
    "map_spedifiedNeighborhood = folium.Map(location=[latitude, longitude], zoom_start=13)\n",
    "# add markers to map\n",
    "for lat, lng, borough, neighbourhood in zip(df_neighborhoods_geo['Latitude'], df_neighborhoods_geo['Longitude'], df_neighborhoods_geo['Borough'], df_neighborhoods_geo['Neighbourhood']):\n",
    "    label = '{}, {}'.format(neighbourhood, borough)\n",
    "    label = folium.Popup(label, parse_html=True)\n",
    "    folium.CircleMarker(\n",
    "        [lat, lng],\n",
    "        radius=5,\n",
    "        popup=label,\n",
    "        color='blue',\n",
    "        fill=True,\n",
    "        fill_color='#3186cc',\n",
    "        fill_opacity=0.7,\n",
    "        parse_html=False).add_to(map_spedifiedNeighborhood)  \n",
    "\n",
    "map_spedifiedNeighborhood"
   ]
  },
  {
   "cell_type": "code",
   "execution_count": null,
   "metadata": {},
   "outputs": [],
   "source": [
    "map_spedifiedNeighborhood.save('greater.html')"
   ]
  },
  {
   "cell_type": "markdown",
   "metadata": {},
   "source": [
    "## 3. Use the Foursquare API to explore the neighborhoods and segment them."
   ]
  },
  {
   "cell_type": "markdown",
   "metadata": {},
   "source": [
    "Define Foursquare Credentials and Version"
   ]
  },
  {
   "cell_type": "code",
   "execution_count": null,
   "metadata": {
    "jupyter": {
     "outputs_hidden": false
    }
   },
   "outputs": [],
   "source": [
    "CLIENT_ID     = 'Use your Foursquare ID'         # your Foursquare ID\n",
    "CLIENT_SECRET = 'Use your Foursquare secret key' # your Foursquare Secret\n",
    "VERSION = '20180605' # Foursquare API version\n",
    "\n",
    "print('Your credentails:')\n",
    "print('CLIENT_ID: ' + CLIENT_ID)\n",
    "print('CLIENT_SECRET:' + CLIENT_SECRET)"
   ]
  },
  {
   "cell_type": "markdown",
   "metadata": {},
   "source": [
    "<a id='item2'></a>"
   ]
  },
  {
   "cell_type": "markdown",
   "metadata": {},
   "source": [
    "### Explore Neighborhoods in the City (and County) of Arlington, Virginia"
   ]
  },
  {
   "cell_type": "markdown",
   "metadata": {},
   "source": [
    "#### Let's create a function to list all the venues for all the neighborhoods in Arlington"
   ]
  },
  {
   "cell_type": "code",
   "execution_count": null,
   "metadata": {},
   "outputs": [],
   "source": [
    "def getNearbyVenues(names, latitudes, longitudes, radius=500):\n",
    "    LIMIT = 100    \n",
    "    venues_list=[]\n",
    "    for name, lat, lng in zip(names, latitudes, longitudes):\n",
    "        print(name)\n",
    "            \n",
    "        # create the API request URL\n",
    "        url = 'https://api.foursquare.com/v2/venues/explore?&client_id={}&client_secret={}&v={}&ll={},{}&radius={}&limit={}'.format(\n",
    "            CLIENT_ID, \n",
    "            CLIENT_SECRET, \n",
    "            VERSION, \n",
    "            lat, \n",
    "            lng, \n",
    "            radius, \n",
    "            LIMIT)\n",
    "            \n",
    "        # make the GET request\n",
    "        try:\n",
    "            results = requests.get(url).json()[\"response\"]['groups'][0]['items']\n",
    "        except:\n",
    "            print('error: No Groups')\n",
    "            \n",
    "        # return only relevant information for each nearby venue\n",
    "        venues_list.append([(\n",
    "            name, \n",
    "            lat, \n",
    "            lng, \n",
    "            v['venue']['name'], \n",
    "            v['venue']['location']['lat'], \n",
    "            v['venue']['location']['lng'],  \n",
    "            v['venue']['categories'][0]['name']) for v in results])\n",
    "\n",
    "    nearby_venues = pd.DataFrame([item for venue_list in venues_list for item in venue_list])\n",
    "    nearby_venues.columns = ['Neighborhood', \n",
    "                  'Neighborhood Latitude', \n",
    "                  'Neighborhood Longitude', \n",
    "                  'Venue', \n",
    "                  'Venue Latitude', \n",
    "                  'Venue Longitude', \n",
    "                  'Venue Category']\n",
    "    \n",
    "    return(nearby_venues)"
   ]
  },
  {
   "cell_type": "markdown",
   "metadata": {},
   "source": [
    "#### This code runs the above function on each neighborhood and create a new dataframe called *Arlington_venues*."
   ]
  },
  {
   "cell_type": "code",
   "execution_count": null,
   "metadata": {
    "jupyter": {
     "outputs_hidden": false
    }
   },
   "outputs": [],
   "source": [
    "Arlington_venues = getNearbyVenues(names = df_neighborhoods_geo['Neighbourhood'],\n",
    "                                   latitudes = df_neighborhoods_geo['Latitude'],\n",
    "                                   longitudes = df_neighborhoods_geo['Longitude']\n",
    "                                  )"
   ]
  },
  {
   "cell_type": "markdown",
   "metadata": {},
   "source": [
    "#### Let's check the size of the resulting dataframe"
   ]
  },
  {
   "cell_type": "code",
   "execution_count": null,
   "metadata": {
    "scrolled": true
   },
   "outputs": [],
   "source": [
    "print(Arlington_venues.shape)\n",
    "Arlington_venues"
   ]
  },
  {
   "cell_type": "markdown",
   "metadata": {},
   "source": [
    "#### Again, we're saving to csv so we don't have to run before this line"
   ]
  },
  {
   "cell_type": "code",
   "execution_count": null,
   "metadata": {
    "jupyter": {
     "outputs_hidden": false
    }
   },
   "outputs": [],
   "source": [
    "Arlington_venues.reset_index(inplace=True)\n",
    "Arlington_venues.to_csv (r'C:\\Users\\George\\Downloads\\ArlingtonVenues.csv', index = None, header=True)"
   ]
  },
  {
   "cell_type": "markdown",
   "metadata": {},
   "source": [
    "## 4. Clean the data for use with Logistic Regression"
   ]
  },
  {
   "cell_type": "markdown",
   "metadata": {},
   "source": [
    "## Here, we can read the venue list.  \n",
    "Note that after I gathered the data using Foursquare.com, I manipulated it in Excel,  \n",
    "adding a new column, named \"Manually Categorized\".  \n",
    "Essentially, I didn't agree with some of the venue categories from Foursquare.com  \n",
    "I don't think they would agree with my categorizations either."
   ]
  },
  {
   "cell_type": "code",
   "execution_count": null,
   "metadata": {},
   "outputs": [],
   "source": [
    "Arlington_venues = pd.DataFrame([])\n",
    "Arlington_venues.shape"
   ]
  },
  {
   "cell_type": "code",
   "execution_count": 2,
   "metadata": {},
   "outputs": [
    {
     "name": "stdout",
     "output_type": "stream",
     "text": [
      "(870, 11)\n"
     ]
    },
    {
     "data": {
      "text/html": [
       "<div>\n",
       "<style scoped>\n",
       "    .dataframe tbody tr th:only-of-type {\n",
       "        vertical-align: middle;\n",
       "    }\n",
       "\n",
       "    .dataframe tbody tr th {\n",
       "        vertical-align: top;\n",
       "    }\n",
       "\n",
       "    .dataframe thead th {\n",
       "        text-align: right;\n",
       "    }\n",
       "</style>\n",
       "<table border=\"1\" class=\"dataframe\">\n",
       "  <thead>\n",
       "    <tr style=\"text-align: right;\">\n",
       "      <th></th>\n",
       "      <th>Neighborhood</th>\n",
       "      <th>Neighborhood Latitude</th>\n",
       "      <th>Neighborhood Longitude</th>\n",
       "      <th>Venue</th>\n",
       "      <th>Venue Latitude</th>\n",
       "      <th>Venue Longitude</th>\n",
       "      <th>Venue Category</th>\n",
       "      <th>Metro</th>\n",
       "      <th>Cat 2</th>\n",
       "      <th>Cat 3</th>\n",
       "      <th>Manually Categorized</th>\n",
       "    </tr>\n",
       "  </thead>\n",
       "  <tbody>\n",
       "    <tr>\n",
       "      <th>0</th>\n",
       "      <td>Court House</td>\n",
       "      <td>38.891211</td>\n",
       "      <td>-77.085624</td>\n",
       "      <td>Arlington Rooftop Bar &amp; Grill</td>\n",
       "      <td>38.890303</td>\n",
       "      <td>-77.088122</td>\n",
       "      <td>Bar</td>\n",
       "      <td>Metro</td>\n",
       "      <td>On-premise Food/Drink</td>\n",
       "      <td>Bar</td>\n",
       "      <td>Bar</td>\n",
       "    </tr>\n",
       "    <tr>\n",
       "      <th>1</th>\n",
       "      <td>Reagan National Airport</td>\n",
       "      <td>38.853416</td>\n",
       "      <td>-77.044042</td>\n",
       "      <td>American airlines</td>\n",
       "      <td>38.850727</td>\n",
       "      <td>-77.048382</td>\n",
       "      <td>Airport</td>\n",
       "      <td>Metro</td>\n",
       "      <td>Transportation</td>\n",
       "      <td>NaN</td>\n",
       "      <td>Transportation</td>\n",
       "    </tr>\n",
       "    <tr>\n",
       "      <th>2</th>\n",
       "      <td>Reagan National Airport</td>\n",
       "      <td>38.853416</td>\n",
       "      <td>-77.044042</td>\n",
       "      <td>DCA Passenger Pick-up</td>\n",
       "      <td>38.853190</td>\n",
       "      <td>-77.043727</td>\n",
       "      <td>Airport</td>\n",
       "      <td>Metro</td>\n",
       "      <td>Transportation</td>\n",
       "      <td>NaN</td>\n",
       "      <td>Transportation</td>\n",
       "    </tr>\n",
       "    <tr>\n",
       "      <th>3</th>\n",
       "      <td>Reagan National Airport</td>\n",
       "      <td>38.853416</td>\n",
       "      <td>-77.044042</td>\n",
       "      <td>Ronald Reagan Washington National Airport (DCA...</td>\n",
       "      <td>38.853516</td>\n",
       "      <td>-77.042529</td>\n",
       "      <td>Airport</td>\n",
       "      <td>Metro</td>\n",
       "      <td>Transportation</td>\n",
       "      <td>NaN</td>\n",
       "      <td>Transportation</td>\n",
       "    </tr>\n",
       "    <tr>\n",
       "      <th>4</th>\n",
       "      <td>Pentagon City</td>\n",
       "      <td>38.861921</td>\n",
       "      <td>-77.059631</td>\n",
       "      <td>Basin Barroom</td>\n",
       "      <td>38.862920</td>\n",
       "      <td>-77.054940</td>\n",
       "      <td>Bar</td>\n",
       "      <td>NaN</td>\n",
       "      <td>On-premise Food/Drink</td>\n",
       "      <td>Bar</td>\n",
       "      <td>Bar</td>\n",
       "    </tr>\n",
       "  </tbody>\n",
       "</table>\n",
       "</div>"
      ],
      "text/plain": [
       "              Neighborhood  Neighborhood Latitude  Neighborhood Longitude  \\\n",
       "0              Court House              38.891211              -77.085624   \n",
       "1  Reagan National Airport              38.853416              -77.044042   \n",
       "2  Reagan National Airport              38.853416              -77.044042   \n",
       "3  Reagan National Airport              38.853416              -77.044042   \n",
       "4            Pentagon City              38.861921              -77.059631   \n",
       "\n",
       "                                               Venue  Venue Latitude  \\\n",
       "0                      Arlington Rooftop Bar & Grill       38.890303   \n",
       "1                                  American airlines       38.850727   \n",
       "2                              DCA Passenger Pick-up       38.853190   \n",
       "3  Ronald Reagan Washington National Airport (DCA...       38.853516   \n",
       "4                                      Basin Barroom       38.862920   \n",
       "\n",
       "   Venue Longitude Venue Category  Metro                  Cat 2 Cat 3  \\\n",
       "0       -77.088122            Bar  Metro  On-premise Food/Drink   Bar   \n",
       "1       -77.048382        Airport  Metro         Transportation   NaN   \n",
       "2       -77.043727        Airport  Metro         Transportation   NaN   \n",
       "3       -77.042529        Airport  Metro         Transportation   NaN   \n",
       "4       -77.054940            Bar    NaN  On-premise Food/Drink   Bar   \n",
       "\n",
       "  Manually Categorized  \n",
       "0                  Bar  \n",
       "1       Transportation  \n",
       "2       Transportation  \n",
       "3       Transportation  \n",
       "4                  Bar  "
      ]
     },
     "execution_count": 2,
     "metadata": {},
     "output_type": "execute_result"
    }
   ],
   "source": [
    "Arlington_venues = pd.read_csv(r'C:\\Users\\George\\Downloads\\ArlingtonVenuesCategorized.csv')\n",
    "print(Arlington_venues.shape)\n",
    "Arlington_venues.head()"
   ]
  },
  {
   "cell_type": "markdown",
   "metadata": {},
   "source": [
    "Note that there is a row for each venue"
   ]
  },
  {
   "cell_type": "markdown",
   "metadata": {},
   "source": [
    "#### Let's find out how many unique categories can be curated from all the returned venues"
   ]
  },
  {
   "cell_type": "code",
   "execution_count": 3,
   "metadata": {
    "jupyter": {
     "outputs_hidden": false
    }
   },
   "outputs": [
    {
     "name": "stdout",
     "output_type": "stream",
     "text": [
      "There are 27 uniques categories.\n"
     ]
    }
   ],
   "source": [
    "print('There are {} uniques categories.'.format(len(Arlington_venues['Manually Categorized'].unique())))"
   ]
  },
  {
   "cell_type": "markdown",
   "metadata": {},
   "source": [
    "#### We're going to encode each category as 0 or 1."
   ]
  },
  {
   "cell_type": "code",
   "execution_count": 4,
   "metadata": {
    "jupyter": {
     "outputs_hidden": false
    }
   },
   "outputs": [
    {
     "name": "stdout",
     "output_type": "stream",
     "text": [
      "(870, 28)\n"
     ]
    },
    {
     "data": {
      "text/html": [
       "<div>\n",
       "<style scoped>\n",
       "    .dataframe tbody tr th:only-of-type {\n",
       "        vertical-align: middle;\n",
       "    }\n",
       "\n",
       "    .dataframe tbody tr th {\n",
       "        vertical-align: top;\n",
       "    }\n",
       "\n",
       "    .dataframe thead th {\n",
       "        text-align: right;\n",
       "    }\n",
       "</style>\n",
       "<table border=\"1\" class=\"dataframe\">\n",
       "  <thead>\n",
       "    <tr style=\"text-align: right;\">\n",
       "      <th></th>\n",
       "      <th>Neighborhood</th>\n",
       "      <th>Art and History</th>\n",
       "      <th>Bank</th>\n",
       "      <th>Bar</th>\n",
       "      <th>Burgers - Quality</th>\n",
       "      <th>Chinese</th>\n",
       "      <th>Coffee/Breakfast</th>\n",
       "      <th>Construction &amp; Landscaping</th>\n",
       "      <th>Fast Food</th>\n",
       "      <th>Fast Fresh</th>\n",
       "      <th>Food Court</th>\n",
       "      <th>Food Truck</th>\n",
       "      <th>Health &amp; Recreation</th>\n",
       "      <th>Hotel</th>\n",
       "      <th>Ice Cream</th>\n",
       "      <th>Market</th>\n",
       "      <th>Pizza</th>\n",
       "      <th>Rental Car Location</th>\n",
       "      <th>Restaurant</th>\n",
       "      <th>Salad</th>\n",
       "      <th>Sandwich</th>\n",
       "      <th>Steakhouse</th>\n",
       "      <th>Store</th>\n",
       "      <th>Sushi Restaurant</th>\n",
       "      <th>Taco Place</th>\n",
       "      <th>Thai Restaurant</th>\n",
       "      <th>Theater</th>\n",
       "      <th>Transportation</th>\n",
       "    </tr>\n",
       "  </thead>\n",
       "  <tbody>\n",
       "    <tr>\n",
       "      <th>0</th>\n",
       "      <td>Court House</td>\n",
       "      <td>0</td>\n",
       "      <td>0</td>\n",
       "      <td>1</td>\n",
       "      <td>0</td>\n",
       "      <td>0</td>\n",
       "      <td>0</td>\n",
       "      <td>0</td>\n",
       "      <td>0</td>\n",
       "      <td>0</td>\n",
       "      <td>0</td>\n",
       "      <td>0</td>\n",
       "      <td>0</td>\n",
       "      <td>0</td>\n",
       "      <td>0</td>\n",
       "      <td>0</td>\n",
       "      <td>0</td>\n",
       "      <td>0</td>\n",
       "      <td>0</td>\n",
       "      <td>0</td>\n",
       "      <td>0</td>\n",
       "      <td>0</td>\n",
       "      <td>0</td>\n",
       "      <td>0</td>\n",
       "      <td>0</td>\n",
       "      <td>0</td>\n",
       "      <td>0</td>\n",
       "      <td>0</td>\n",
       "    </tr>\n",
       "    <tr>\n",
       "      <th>1</th>\n",
       "      <td>Reagan National Airport</td>\n",
       "      <td>0</td>\n",
       "      <td>0</td>\n",
       "      <td>0</td>\n",
       "      <td>0</td>\n",
       "      <td>0</td>\n",
       "      <td>0</td>\n",
       "      <td>0</td>\n",
       "      <td>0</td>\n",
       "      <td>0</td>\n",
       "      <td>0</td>\n",
       "      <td>0</td>\n",
       "      <td>0</td>\n",
       "      <td>0</td>\n",
       "      <td>0</td>\n",
       "      <td>0</td>\n",
       "      <td>0</td>\n",
       "      <td>0</td>\n",
       "      <td>0</td>\n",
       "      <td>0</td>\n",
       "      <td>0</td>\n",
       "      <td>0</td>\n",
       "      <td>0</td>\n",
       "      <td>0</td>\n",
       "      <td>0</td>\n",
       "      <td>0</td>\n",
       "      <td>0</td>\n",
       "      <td>1</td>\n",
       "    </tr>\n",
       "    <tr>\n",
       "      <th>2</th>\n",
       "      <td>Reagan National Airport</td>\n",
       "      <td>0</td>\n",
       "      <td>0</td>\n",
       "      <td>0</td>\n",
       "      <td>0</td>\n",
       "      <td>0</td>\n",
       "      <td>0</td>\n",
       "      <td>0</td>\n",
       "      <td>0</td>\n",
       "      <td>0</td>\n",
       "      <td>0</td>\n",
       "      <td>0</td>\n",
       "      <td>0</td>\n",
       "      <td>0</td>\n",
       "      <td>0</td>\n",
       "      <td>0</td>\n",
       "      <td>0</td>\n",
       "      <td>0</td>\n",
       "      <td>0</td>\n",
       "      <td>0</td>\n",
       "      <td>0</td>\n",
       "      <td>0</td>\n",
       "      <td>0</td>\n",
       "      <td>0</td>\n",
       "      <td>0</td>\n",
       "      <td>0</td>\n",
       "      <td>0</td>\n",
       "      <td>1</td>\n",
       "    </tr>\n",
       "    <tr>\n",
       "      <th>3</th>\n",
       "      <td>Reagan National Airport</td>\n",
       "      <td>0</td>\n",
       "      <td>0</td>\n",
       "      <td>0</td>\n",
       "      <td>0</td>\n",
       "      <td>0</td>\n",
       "      <td>0</td>\n",
       "      <td>0</td>\n",
       "      <td>0</td>\n",
       "      <td>0</td>\n",
       "      <td>0</td>\n",
       "      <td>0</td>\n",
       "      <td>0</td>\n",
       "      <td>0</td>\n",
       "      <td>0</td>\n",
       "      <td>0</td>\n",
       "      <td>0</td>\n",
       "      <td>0</td>\n",
       "      <td>0</td>\n",
       "      <td>0</td>\n",
       "      <td>0</td>\n",
       "      <td>0</td>\n",
       "      <td>0</td>\n",
       "      <td>0</td>\n",
       "      <td>0</td>\n",
       "      <td>0</td>\n",
       "      <td>0</td>\n",
       "      <td>1</td>\n",
       "    </tr>\n",
       "    <tr>\n",
       "      <th>4</th>\n",
       "      <td>Pentagon City</td>\n",
       "      <td>0</td>\n",
       "      <td>0</td>\n",
       "      <td>1</td>\n",
       "      <td>0</td>\n",
       "      <td>0</td>\n",
       "      <td>0</td>\n",
       "      <td>0</td>\n",
       "      <td>0</td>\n",
       "      <td>0</td>\n",
       "      <td>0</td>\n",
       "      <td>0</td>\n",
       "      <td>0</td>\n",
       "      <td>0</td>\n",
       "      <td>0</td>\n",
       "      <td>0</td>\n",
       "      <td>0</td>\n",
       "      <td>0</td>\n",
       "      <td>0</td>\n",
       "      <td>0</td>\n",
       "      <td>0</td>\n",
       "      <td>0</td>\n",
       "      <td>0</td>\n",
       "      <td>0</td>\n",
       "      <td>0</td>\n",
       "      <td>0</td>\n",
       "      <td>0</td>\n",
       "      <td>0</td>\n",
       "    </tr>\n",
       "  </tbody>\n",
       "</table>\n",
       "</div>"
      ],
      "text/plain": [
       "              Neighborhood  Art and History  Bank  Bar  Burgers - Quality  \\\n",
       "0              Court House                0     0    1                  0   \n",
       "1  Reagan National Airport                0     0    0                  0   \n",
       "2  Reagan National Airport                0     0    0                  0   \n",
       "3  Reagan National Airport                0     0    0                  0   \n",
       "4            Pentagon City                0     0    1                  0   \n",
       "\n",
       "   Chinese  Coffee/Breakfast  Construction & Landscaping  Fast Food  \\\n",
       "0        0                 0                           0          0   \n",
       "1        0                 0                           0          0   \n",
       "2        0                 0                           0          0   \n",
       "3        0                 0                           0          0   \n",
       "4        0                 0                           0          0   \n",
       "\n",
       "   Fast Fresh  Food Court  Food Truck  Health & Recreation  Hotel  Ice Cream  \\\n",
       "0           0           0           0                    0      0          0   \n",
       "1           0           0           0                    0      0          0   \n",
       "2           0           0           0                    0      0          0   \n",
       "3           0           0           0                    0      0          0   \n",
       "4           0           0           0                    0      0          0   \n",
       "\n",
       "   Market  Pizza  Rental Car Location  Restaurant  Salad  Sandwich  \\\n",
       "0       0      0                    0           0      0         0   \n",
       "1       0      0                    0           0      0         0   \n",
       "2       0      0                    0           0      0         0   \n",
       "3       0      0                    0           0      0         0   \n",
       "4       0      0                    0           0      0         0   \n",
       "\n",
       "   Steakhouse  Store  Sushi Restaurant  Taco Place  Thai Restaurant  Theater  \\\n",
       "0           0      0                 0           0                0        0   \n",
       "1           0      0                 0           0                0        0   \n",
       "2           0      0                 0           0                0        0   \n",
       "3           0      0                 0           0                0        0   \n",
       "4           0      0                 0           0                0        0   \n",
       "\n",
       "   Transportation  \n",
       "0               0  \n",
       "1               1  \n",
       "2               1  \n",
       "3               1  \n",
       "4               0  "
      ]
     },
     "execution_count": 4,
     "metadata": {},
     "output_type": "execute_result"
    }
   ],
   "source": [
    "# one hot encoding\n",
    "Arlington_onehot = pd.get_dummies(Arlington_venues[['Manually Categorized']], prefix=\"\", prefix_sep=\"\")\n",
    "\n",
    "# add neighborhood column back to dataframe\n",
    "Arlington_onehot['Neighborhood'] = Arlington_venues['Neighborhood'] \n",
    "\n",
    "# move neighborhood column to the first column\n",
    "fixed_columns = [Arlington_onehot.columns[-1]] + list(Arlington_onehot.columns[:-1])\n",
    "Arlington_onehot = Arlington_onehot[fixed_columns]\n",
    "\n",
    "print(Arlington_onehot.shape)\n",
    "Arlington_onehot.head()"
   ]
  },
  {
   "cell_type": "markdown",
   "metadata": {},
   "source": [
    "### Note that we still have one row for each venue.  We need to summarize for each neighborhood."
   ]
  },
  {
   "cell_type": "markdown",
   "metadata": {},
   "source": [
    "##### We'll sum the rows by neighborhood, and then compute a total for each venue type.  We'll divide by the total for an average.  \n",
    "This is a different average than using the DataFrame.groupby.mean(), since that uses a different denominator."
   ]
  },
  {
   "cell_type": "code",
   "execution_count": 5,
   "metadata": {
    "jupyter": {
     "outputs_hidden": false
    },
    "scrolled": true
   },
   "outputs": [
    {
     "data": {
      "text/html": [
       "<div>\n",
       "<style scoped>\n",
       "    .dataframe tbody tr th:only-of-type {\n",
       "        vertical-align: middle;\n",
       "    }\n",
       "\n",
       "    .dataframe tbody tr th {\n",
       "        vertical-align: top;\n",
       "    }\n",
       "\n",
       "    .dataframe thead th {\n",
       "        text-align: right;\n",
       "    }\n",
       "</style>\n",
       "<table border=\"1\" class=\"dataframe\">\n",
       "  <thead>\n",
       "    <tr style=\"text-align: right;\">\n",
       "      <th></th>\n",
       "      <th>Art and History</th>\n",
       "      <th>Bank</th>\n",
       "      <th>Bar</th>\n",
       "      <th>Burgers - Quality</th>\n",
       "      <th>Chinese</th>\n",
       "      <th>Coffee/Breakfast</th>\n",
       "      <th>Construction &amp; Landscaping</th>\n",
       "      <th>Fast Food</th>\n",
       "      <th>Fast Fresh</th>\n",
       "      <th>Food Court</th>\n",
       "      <th>Food Truck</th>\n",
       "      <th>Health &amp; Recreation</th>\n",
       "      <th>Hotel</th>\n",
       "      <th>Ice Cream</th>\n",
       "      <th>Market</th>\n",
       "      <th>Pizza</th>\n",
       "      <th>Rental Car Location</th>\n",
       "      <th>Restaurant</th>\n",
       "      <th>Salad</th>\n",
       "      <th>Sandwich</th>\n",
       "      <th>Steakhouse</th>\n",
       "      <th>Store</th>\n",
       "      <th>Sushi Restaurant</th>\n",
       "      <th>Taco Place</th>\n",
       "      <th>Thai Restaurant</th>\n",
       "      <th>Theater</th>\n",
       "      <th>Transportation</th>\n",
       "    </tr>\n",
       "    <tr>\n",
       "      <th>Neighborhood</th>\n",
       "      <th></th>\n",
       "      <th></th>\n",
       "      <th></th>\n",
       "      <th></th>\n",
       "      <th></th>\n",
       "      <th></th>\n",
       "      <th></th>\n",
       "      <th></th>\n",
       "      <th></th>\n",
       "      <th></th>\n",
       "      <th></th>\n",
       "      <th></th>\n",
       "      <th></th>\n",
       "      <th></th>\n",
       "      <th></th>\n",
       "      <th></th>\n",
       "      <th></th>\n",
       "      <th></th>\n",
       "      <th></th>\n",
       "      <th></th>\n",
       "      <th></th>\n",
       "      <th></th>\n",
       "      <th></th>\n",
       "      <th></th>\n",
       "      <th></th>\n",
       "      <th></th>\n",
       "      <th></th>\n",
       "    </tr>\n",
       "  </thead>\n",
       "  <tbody>\n",
       "    <tr>\n",
       "      <th>Alcova Heights</th>\n",
       "      <td>0</td>\n",
       "      <td>0</td>\n",
       "      <td>0</td>\n",
       "      <td>0</td>\n",
       "      <td>0</td>\n",
       "      <td>0</td>\n",
       "      <td>0</td>\n",
       "      <td>1</td>\n",
       "      <td>0</td>\n",
       "      <td>0</td>\n",
       "      <td>0</td>\n",
       "      <td>2</td>\n",
       "      <td>0</td>\n",
       "      <td>0</td>\n",
       "      <td>1</td>\n",
       "      <td>0</td>\n",
       "      <td>0</td>\n",
       "      <td>1</td>\n",
       "      <td>0</td>\n",
       "      <td>0</td>\n",
       "      <td>0</td>\n",
       "      <td>1</td>\n",
       "      <td>0</td>\n",
       "      <td>0</td>\n",
       "      <td>0</td>\n",
       "      <td>0</td>\n",
       "      <td>0</td>\n",
       "    </tr>\n",
       "    <tr>\n",
       "      <th>Arlington Forest</th>\n",
       "      <td>0</td>\n",
       "      <td>0</td>\n",
       "      <td>0</td>\n",
       "      <td>0</td>\n",
       "      <td>0</td>\n",
       "      <td>1</td>\n",
       "      <td>0</td>\n",
       "      <td>0</td>\n",
       "      <td>0</td>\n",
       "      <td>0</td>\n",
       "      <td>0</td>\n",
       "      <td>0</td>\n",
       "      <td>0</td>\n",
       "      <td>0</td>\n",
       "      <td>2</td>\n",
       "      <td>1</td>\n",
       "      <td>0</td>\n",
       "      <td>0</td>\n",
       "      <td>0</td>\n",
       "      <td>1</td>\n",
       "      <td>1</td>\n",
       "      <td>0</td>\n",
       "      <td>0</td>\n",
       "      <td>0</td>\n",
       "      <td>1</td>\n",
       "      <td>0</td>\n",
       "      <td>0</td>\n",
       "    </tr>\n",
       "    <tr>\n",
       "      <th>Arlington Heights</th>\n",
       "      <td>0</td>\n",
       "      <td>0</td>\n",
       "      <td>0</td>\n",
       "      <td>0</td>\n",
       "      <td>1</td>\n",
       "      <td>0</td>\n",
       "      <td>0</td>\n",
       "      <td>0</td>\n",
       "      <td>0</td>\n",
       "      <td>0</td>\n",
       "      <td>0</td>\n",
       "      <td>0</td>\n",
       "      <td>0</td>\n",
       "      <td>0</td>\n",
       "      <td>0</td>\n",
       "      <td>0</td>\n",
       "      <td>0</td>\n",
       "      <td>0</td>\n",
       "      <td>0</td>\n",
       "      <td>0</td>\n",
       "      <td>0</td>\n",
       "      <td>0</td>\n",
       "      <td>0</td>\n",
       "      <td>0</td>\n",
       "      <td>0</td>\n",
       "      <td>2</td>\n",
       "      <td>0</td>\n",
       "    </tr>\n",
       "    <tr>\n",
       "      <th>Arlington View</th>\n",
       "      <td>0</td>\n",
       "      <td>0</td>\n",
       "      <td>1</td>\n",
       "      <td>0</td>\n",
       "      <td>0</td>\n",
       "      <td>1</td>\n",
       "      <td>0</td>\n",
       "      <td>0</td>\n",
       "      <td>0</td>\n",
       "      <td>0</td>\n",
       "      <td>0</td>\n",
       "      <td>0</td>\n",
       "      <td>1</td>\n",
       "      <td>0</td>\n",
       "      <td>0</td>\n",
       "      <td>0</td>\n",
       "      <td>0</td>\n",
       "      <td>1</td>\n",
       "      <td>0</td>\n",
       "      <td>0</td>\n",
       "      <td>0</td>\n",
       "      <td>0</td>\n",
       "      <td>0</td>\n",
       "      <td>0</td>\n",
       "      <td>0</td>\n",
       "      <td>0</td>\n",
       "      <td>0</td>\n",
       "    </tr>\n",
       "    <tr>\n",
       "      <th>Aurora Hills</th>\n",
       "      <td>0</td>\n",
       "      <td>0</td>\n",
       "      <td>0</td>\n",
       "      <td>0</td>\n",
       "      <td>0</td>\n",
       "      <td>0</td>\n",
       "      <td>0</td>\n",
       "      <td>0</td>\n",
       "      <td>0</td>\n",
       "      <td>0</td>\n",
       "      <td>0</td>\n",
       "      <td>3</td>\n",
       "      <td>0</td>\n",
       "      <td>0</td>\n",
       "      <td>0</td>\n",
       "      <td>0</td>\n",
       "      <td>0</td>\n",
       "      <td>0</td>\n",
       "      <td>0</td>\n",
       "      <td>0</td>\n",
       "      <td>0</td>\n",
       "      <td>1</td>\n",
       "      <td>0</td>\n",
       "      <td>0</td>\n",
       "      <td>0</td>\n",
       "      <td>1</td>\n",
       "      <td>0</td>\n",
       "    </tr>\n",
       "    <tr>\n",
       "      <th>Ballston</th>\n",
       "      <td>0</td>\n",
       "      <td>2</td>\n",
       "      <td>1</td>\n",
       "      <td>1</td>\n",
       "      <td>1</td>\n",
       "      <td>3</td>\n",
       "      <td>0</td>\n",
       "      <td>0</td>\n",
       "      <td>2</td>\n",
       "      <td>0</td>\n",
       "      <td>0</td>\n",
       "      <td>1</td>\n",
       "      <td>1</td>\n",
       "      <td>0</td>\n",
       "      <td>0</td>\n",
       "      <td>0</td>\n",
       "      <td>0</td>\n",
       "      <td>2</td>\n",
       "      <td>0</td>\n",
       "      <td>1</td>\n",
       "      <td>0</td>\n",
       "      <td>3</td>\n",
       "      <td>0</td>\n",
       "      <td>0</td>\n",
       "      <td>0</td>\n",
       "      <td>0</td>\n",
       "      <td>0</td>\n",
       "    </tr>\n",
       "    <tr>\n",
       "      <th>Barcroft</th>\n",
       "      <td>0</td>\n",
       "      <td>1</td>\n",
       "      <td>0</td>\n",
       "      <td>0</td>\n",
       "      <td>0</td>\n",
       "      <td>1</td>\n",
       "      <td>0</td>\n",
       "      <td>0</td>\n",
       "      <td>0</td>\n",
       "      <td>0</td>\n",
       "      <td>0</td>\n",
       "      <td>1</td>\n",
       "      <td>0</td>\n",
       "      <td>0</td>\n",
       "      <td>1</td>\n",
       "      <td>1</td>\n",
       "      <td>1</td>\n",
       "      <td>1</td>\n",
       "      <td>0</td>\n",
       "      <td>0</td>\n",
       "      <td>0</td>\n",
       "      <td>2</td>\n",
       "      <td>0</td>\n",
       "      <td>2</td>\n",
       "      <td>0</td>\n",
       "      <td>0</td>\n",
       "      <td>1</td>\n",
       "    </tr>\n",
       "    <tr>\n",
       "      <th>Bellevue Forest</th>\n",
       "      <td>0</td>\n",
       "      <td>0</td>\n",
       "      <td>0</td>\n",
       "      <td>0</td>\n",
       "      <td>0</td>\n",
       "      <td>0</td>\n",
       "      <td>1</td>\n",
       "      <td>0</td>\n",
       "      <td>0</td>\n",
       "      <td>0</td>\n",
       "      <td>0</td>\n",
       "      <td>1</td>\n",
       "      <td>0</td>\n",
       "      <td>0</td>\n",
       "      <td>0</td>\n",
       "      <td>0</td>\n",
       "      <td>0</td>\n",
       "      <td>0</td>\n",
       "      <td>0</td>\n",
       "      <td>0</td>\n",
       "      <td>0</td>\n",
       "      <td>0</td>\n",
       "      <td>0</td>\n",
       "      <td>0</td>\n",
       "      <td>0</td>\n",
       "      <td>0</td>\n",
       "      <td>0</td>\n",
       "    </tr>\n",
       "  </tbody>\n",
       "</table>\n",
       "</div>"
      ],
      "text/plain": [
       "                   Art and History  Bank  Bar  Burgers - Quality  Chinese  \\\n",
       "Neighborhood                                                                \n",
       "Alcova Heights                   0     0    0                  0        0   \n",
       "Arlington Forest                 0     0    0                  0        0   \n",
       "Arlington Heights                0     0    0                  0        1   \n",
       "Arlington View                   0     0    1                  0        0   \n",
       "Aurora Hills                     0     0    0                  0        0   \n",
       "Ballston                         0     2    1                  1        1   \n",
       "Barcroft                         0     1    0                  0        0   \n",
       "Bellevue Forest                  0     0    0                  0        0   \n",
       "\n",
       "                   Coffee/Breakfast  Construction & Landscaping  Fast Food  \\\n",
       "Neighborhood                                                                 \n",
       "Alcova Heights                    0                           0          1   \n",
       "Arlington Forest                  1                           0          0   \n",
       "Arlington Heights                 0                           0          0   \n",
       "Arlington View                    1                           0          0   \n",
       "Aurora Hills                      0                           0          0   \n",
       "Ballston                          3                           0          0   \n",
       "Barcroft                          1                           0          0   \n",
       "Bellevue Forest                   0                           1          0   \n",
       "\n",
       "                   Fast Fresh  Food Court  Food Truck  Health & Recreation  \\\n",
       "Neighborhood                                                                 \n",
       "Alcova Heights              0           0           0                    2   \n",
       "Arlington Forest            0           0           0                    0   \n",
       "Arlington Heights           0           0           0                    0   \n",
       "Arlington View              0           0           0                    0   \n",
       "Aurora Hills                0           0           0                    3   \n",
       "Ballston                    2           0           0                    1   \n",
       "Barcroft                    0           0           0                    1   \n",
       "Bellevue Forest             0           0           0                    1   \n",
       "\n",
       "                   Hotel  Ice Cream  Market  Pizza  Rental Car Location  \\\n",
       "Neighborhood                                                              \n",
       "Alcova Heights         0          0       1      0                    0   \n",
       "Arlington Forest       0          0       2      1                    0   \n",
       "Arlington Heights      0          0       0      0                    0   \n",
       "Arlington View         1          0       0      0                    0   \n",
       "Aurora Hills           0          0       0      0                    0   \n",
       "Ballston               1          0       0      0                    0   \n",
       "Barcroft               0          0       1      1                    1   \n",
       "Bellevue Forest        0          0       0      0                    0   \n",
       "\n",
       "                   Restaurant  Salad  Sandwich  Steakhouse  Store  \\\n",
       "Neighborhood                                                        \n",
       "Alcova Heights              1      0         0           0      1   \n",
       "Arlington Forest            0      0         1           1      0   \n",
       "Arlington Heights           0      0         0           0      0   \n",
       "Arlington View              1      0         0           0      0   \n",
       "Aurora Hills                0      0         0           0      1   \n",
       "Ballston                    2      0         1           0      3   \n",
       "Barcroft                    1      0         0           0      2   \n",
       "Bellevue Forest             0      0         0           0      0   \n",
       "\n",
       "                   Sushi Restaurant  Taco Place  Thai Restaurant  Theater  \\\n",
       "Neighborhood                                                                \n",
       "Alcova Heights                    0           0                0        0   \n",
       "Arlington Forest                  0           0                1        0   \n",
       "Arlington Heights                 0           0                0        2   \n",
       "Arlington View                    0           0                0        0   \n",
       "Aurora Hills                      0           0                0        1   \n",
       "Ballston                          0           0                0        0   \n",
       "Barcroft                          0           2                0        0   \n",
       "Bellevue Forest                   0           0                0        0   \n",
       "\n",
       "                   Transportation  \n",
       "Neighborhood                       \n",
       "Alcova Heights                  0  \n",
       "Arlington Forest                0  \n",
       "Arlington Heights               0  \n",
       "Arlington View                  0  \n",
       "Aurora Hills                    0  \n",
       "Ballston                        0  \n",
       "Barcroft                        1  \n",
       "Bellevue Forest                 0  "
      ]
     },
     "execution_count": 5,
     "metadata": {},
     "output_type": "execute_result"
    }
   ],
   "source": [
    "Arlington_grouped = Arlington_onehot.groupby('Neighborhood').sum()\n",
    "Arlington_grouped.to_csv(r'C:\\Users\\George\\Downloads\\Arlington_grouped.csv')\n",
    "#Arlington_grouped.reset_index(inplace=True)\n",
    "#Arlington_grouped.drop('Neighborhood',axis=1,inplace=True)\n",
    "Arlington_grouped.head(8)"
   ]
  },
  {
   "cell_type": "markdown",
   "metadata": {},
   "source": [
    "### Okay, now we have one row for each neighborhood\n",
    "Divide by the sum of each column to normailize"
   ]
  },
  {
   "cell_type": "code",
   "execution_count": 6,
   "metadata": {},
   "outputs": [],
   "source": [
    "# This is essentially the Baysian propability of a column, given the row\n",
    "# Sum of the rows:    Arlington_grouped.sum(axis=0)\n",
    "Arlington_grouped = Arlington_grouped.div(Arlington_grouped.sum(axis=0),axis='columns')"
   ]
  },
  {
   "cell_type": "markdown",
   "metadata": {},
   "source": [
    "So, now let's identify the Metro Stations into a DataFrame, df_Metro,  \n",
    "and also, a dependent variable, y."
   ]
  },
  {
   "cell_type": "code",
   "execution_count": 7,
   "metadata": {},
   "outputs": [],
   "source": [
    "Metro = ['Ballston', 'Clarendon', 'Court House', 'Rosslyn', 'Virginia Square',\n",
    "         'Reagan National Airport', 'Crystal City', 'Pentagon City', 'Pentagon'] #, 'Arlington Cemetery']"
   ]
  },
  {
   "cell_type": "code",
   "execution_count": 8,
   "metadata": {},
   "outputs": [],
   "source": [
    "pd.DataFrame(np.zeros((Arlington_grouped.shape[0],1)))\n",
    "df_Metro = pd.DataFrame(Arlington_grouped.index.values,columns=['Neighborhood'])\n",
    "df_Metro['Metro'] = pd.DataFrame(np.zeros((Arlington_grouped.shape[0],1)))\n",
    "df_Metro.set_index('Neighborhood', inplace=True)\n",
    "for neighborhood in Metro:\n",
    "    df_Metro.loc[neighborhood]=1"
   ]
  },
  {
   "cell_type": "code",
   "execution_count": 9,
   "metadata": {},
   "outputs": [
    {
     "data": {
      "text/html": [
       "<div>\n",
       "<style scoped>\n",
       "    .dataframe tbody tr th:only-of-type {\n",
       "        vertical-align: middle;\n",
       "    }\n",
       "\n",
       "    .dataframe tbody tr th {\n",
       "        vertical-align: top;\n",
       "    }\n",
       "\n",
       "    .dataframe thead th {\n",
       "        text-align: right;\n",
       "    }\n",
       "</style>\n",
       "<table border=\"1\" class=\"dataframe\">\n",
       "  <thead>\n",
       "    <tr style=\"text-align: right;\">\n",
       "      <th></th>\n",
       "      <th>Art and History</th>\n",
       "      <th>Bank</th>\n",
       "      <th>Bar</th>\n",
       "      <th>Burgers - Quality</th>\n",
       "      <th>Chinese</th>\n",
       "      <th>Coffee/Breakfast</th>\n",
       "      <th>Construction &amp; Landscaping</th>\n",
       "      <th>Fast Food</th>\n",
       "      <th>Fast Fresh</th>\n",
       "      <th>Food Court</th>\n",
       "      <th>Food Truck</th>\n",
       "      <th>Health &amp; Recreation</th>\n",
       "      <th>Hotel</th>\n",
       "      <th>Ice Cream</th>\n",
       "      <th>Market</th>\n",
       "      <th>Pizza</th>\n",
       "      <th>Rental Car Location</th>\n",
       "      <th>Restaurant</th>\n",
       "      <th>Salad</th>\n",
       "      <th>Sandwich</th>\n",
       "      <th>Steakhouse</th>\n",
       "      <th>Store</th>\n",
       "      <th>Sushi Restaurant</th>\n",
       "      <th>Taco Place</th>\n",
       "      <th>Thai Restaurant</th>\n",
       "      <th>Theater</th>\n",
       "      <th>Transportation</th>\n",
       "    </tr>\n",
       "    <tr>\n",
       "      <th>Neighborhood</th>\n",
       "      <th></th>\n",
       "      <th></th>\n",
       "      <th></th>\n",
       "      <th></th>\n",
       "      <th></th>\n",
       "      <th></th>\n",
       "      <th></th>\n",
       "      <th></th>\n",
       "      <th></th>\n",
       "      <th></th>\n",
       "      <th></th>\n",
       "      <th></th>\n",
       "      <th></th>\n",
       "      <th></th>\n",
       "      <th></th>\n",
       "      <th></th>\n",
       "      <th></th>\n",
       "      <th></th>\n",
       "      <th></th>\n",
       "      <th></th>\n",
       "      <th></th>\n",
       "      <th></th>\n",
       "      <th></th>\n",
       "      <th></th>\n",
       "      <th></th>\n",
       "      <th></th>\n",
       "      <th></th>\n",
       "    </tr>\n",
       "  </thead>\n",
       "  <tbody>\n",
       "    <tr>\n",
       "      <th>Alcova Heights</th>\n",
       "      <td>0.0</td>\n",
       "      <td>0.0</td>\n",
       "      <td>0.000000</td>\n",
       "      <td>0.0</td>\n",
       "      <td>0.000000</td>\n",
       "      <td>0.000000</td>\n",
       "      <td>0.0</td>\n",
       "      <td>0.047619</td>\n",
       "      <td>0.0</td>\n",
       "      <td>0.0</td>\n",
       "      <td>0.0</td>\n",
       "      <td>0.011561</td>\n",
       "      <td>0.000000</td>\n",
       "      <td>0.0</td>\n",
       "      <td>0.019608</td>\n",
       "      <td>0.000000</td>\n",
       "      <td>0.0</td>\n",
       "      <td>0.009524</td>\n",
       "      <td>0.0</td>\n",
       "      <td>0.000000</td>\n",
       "      <td>0.0</td>\n",
       "      <td>0.007937</td>\n",
       "      <td>0.0</td>\n",
       "      <td>0.0</td>\n",
       "      <td>0.000000</td>\n",
       "      <td>0.0</td>\n",
       "      <td>0.0</td>\n",
       "    </tr>\n",
       "    <tr>\n",
       "      <th>Arlington Forest</th>\n",
       "      <td>0.0</td>\n",
       "      <td>0.0</td>\n",
       "      <td>0.000000</td>\n",
       "      <td>0.0</td>\n",
       "      <td>0.000000</td>\n",
       "      <td>0.011236</td>\n",
       "      <td>0.0</td>\n",
       "      <td>0.000000</td>\n",
       "      <td>0.0</td>\n",
       "      <td>0.0</td>\n",
       "      <td>0.0</td>\n",
       "      <td>0.000000</td>\n",
       "      <td>0.000000</td>\n",
       "      <td>0.0</td>\n",
       "      <td>0.039216</td>\n",
       "      <td>0.035714</td>\n",
       "      <td>0.0</td>\n",
       "      <td>0.000000</td>\n",
       "      <td>0.0</td>\n",
       "      <td>0.027027</td>\n",
       "      <td>0.2</td>\n",
       "      <td>0.000000</td>\n",
       "      <td>0.0</td>\n",
       "      <td>0.0</td>\n",
       "      <td>0.066667</td>\n",
       "      <td>0.0</td>\n",
       "      <td>0.0</td>\n",
       "    </tr>\n",
       "    <tr>\n",
       "      <th>Arlington Heights</th>\n",
       "      <td>0.0</td>\n",
       "      <td>0.0</td>\n",
       "      <td>0.000000</td>\n",
       "      <td>0.0</td>\n",
       "      <td>0.076923</td>\n",
       "      <td>0.000000</td>\n",
       "      <td>0.0</td>\n",
       "      <td>0.000000</td>\n",
       "      <td>0.0</td>\n",
       "      <td>0.0</td>\n",
       "      <td>0.0</td>\n",
       "      <td>0.000000</td>\n",
       "      <td>0.000000</td>\n",
       "      <td>0.0</td>\n",
       "      <td>0.000000</td>\n",
       "      <td>0.000000</td>\n",
       "      <td>0.0</td>\n",
       "      <td>0.000000</td>\n",
       "      <td>0.0</td>\n",
       "      <td>0.000000</td>\n",
       "      <td>0.0</td>\n",
       "      <td>0.000000</td>\n",
       "      <td>0.0</td>\n",
       "      <td>0.0</td>\n",
       "      <td>0.000000</td>\n",
       "      <td>0.4</td>\n",
       "      <td>0.0</td>\n",
       "    </tr>\n",
       "    <tr>\n",
       "      <th>Arlington View</th>\n",
       "      <td>0.0</td>\n",
       "      <td>0.0</td>\n",
       "      <td>0.029412</td>\n",
       "      <td>0.0</td>\n",
       "      <td>0.000000</td>\n",
       "      <td>0.011236</td>\n",
       "      <td>0.0</td>\n",
       "      <td>0.000000</td>\n",
       "      <td>0.0</td>\n",
       "      <td>0.0</td>\n",
       "      <td>0.0</td>\n",
       "      <td>0.000000</td>\n",
       "      <td>0.047619</td>\n",
       "      <td>0.0</td>\n",
       "      <td>0.000000</td>\n",
       "      <td>0.000000</td>\n",
       "      <td>0.0</td>\n",
       "      <td>0.009524</td>\n",
       "      <td>0.0</td>\n",
       "      <td>0.000000</td>\n",
       "      <td>0.0</td>\n",
       "      <td>0.000000</td>\n",
       "      <td>0.0</td>\n",
       "      <td>0.0</td>\n",
       "      <td>0.000000</td>\n",
       "      <td>0.0</td>\n",
       "      <td>0.0</td>\n",
       "    </tr>\n",
       "    <tr>\n",
       "      <th>Aurora Hills</th>\n",
       "      <td>0.0</td>\n",
       "      <td>0.0</td>\n",
       "      <td>0.000000</td>\n",
       "      <td>0.0</td>\n",
       "      <td>0.000000</td>\n",
       "      <td>0.000000</td>\n",
       "      <td>0.0</td>\n",
       "      <td>0.000000</td>\n",
       "      <td>0.0</td>\n",
       "      <td>0.0</td>\n",
       "      <td>0.0</td>\n",
       "      <td>0.017341</td>\n",
       "      <td>0.000000</td>\n",
       "      <td>0.0</td>\n",
       "      <td>0.000000</td>\n",
       "      <td>0.000000</td>\n",
       "      <td>0.0</td>\n",
       "      <td>0.000000</td>\n",
       "      <td>0.0</td>\n",
       "      <td>0.000000</td>\n",
       "      <td>0.0</td>\n",
       "      <td>0.007937</td>\n",
       "      <td>0.0</td>\n",
       "      <td>0.0</td>\n",
       "      <td>0.000000</td>\n",
       "      <td>0.2</td>\n",
       "      <td>0.0</td>\n",
       "    </tr>\n",
       "  </tbody>\n",
       "</table>\n",
       "</div>"
      ],
      "text/plain": [
       "                   Art and History  Bank       Bar  Burgers - Quality  \\\n",
       "Neighborhood                                                            \n",
       "Alcova Heights                 0.0   0.0  0.000000                0.0   \n",
       "Arlington Forest               0.0   0.0  0.000000                0.0   \n",
       "Arlington Heights              0.0   0.0  0.000000                0.0   \n",
       "Arlington View                 0.0   0.0  0.029412                0.0   \n",
       "Aurora Hills                   0.0   0.0  0.000000                0.0   \n",
       "\n",
       "                    Chinese  Coffee/Breakfast  Construction & Landscaping  \\\n",
       "Neighborhood                                                                \n",
       "Alcova Heights     0.000000          0.000000                         0.0   \n",
       "Arlington Forest   0.000000          0.011236                         0.0   \n",
       "Arlington Heights  0.076923          0.000000                         0.0   \n",
       "Arlington View     0.000000          0.011236                         0.0   \n",
       "Aurora Hills       0.000000          0.000000                         0.0   \n",
       "\n",
       "                   Fast Food  Fast Fresh  Food Court  Food Truck  \\\n",
       "Neighborhood                                                       \n",
       "Alcova Heights      0.047619         0.0         0.0         0.0   \n",
       "Arlington Forest    0.000000         0.0         0.0         0.0   \n",
       "Arlington Heights   0.000000         0.0         0.0         0.0   \n",
       "Arlington View      0.000000         0.0         0.0         0.0   \n",
       "Aurora Hills        0.000000         0.0         0.0         0.0   \n",
       "\n",
       "                   Health & Recreation     Hotel  Ice Cream    Market  \\\n",
       "Neighborhood                                                            \n",
       "Alcova Heights                0.011561  0.000000        0.0  0.019608   \n",
       "Arlington Forest              0.000000  0.000000        0.0  0.039216   \n",
       "Arlington Heights             0.000000  0.000000        0.0  0.000000   \n",
       "Arlington View                0.000000  0.047619        0.0  0.000000   \n",
       "Aurora Hills                  0.017341  0.000000        0.0  0.000000   \n",
       "\n",
       "                      Pizza  Rental Car Location  Restaurant  Salad  Sandwich  \\\n",
       "Neighborhood                                                                    \n",
       "Alcova Heights     0.000000                  0.0    0.009524    0.0  0.000000   \n",
       "Arlington Forest   0.035714                  0.0    0.000000    0.0  0.027027   \n",
       "Arlington Heights  0.000000                  0.0    0.000000    0.0  0.000000   \n",
       "Arlington View     0.000000                  0.0    0.009524    0.0  0.000000   \n",
       "Aurora Hills       0.000000                  0.0    0.000000    0.0  0.000000   \n",
       "\n",
       "                   Steakhouse     Store  Sushi Restaurant  Taco Place  \\\n",
       "Neighborhood                                                            \n",
       "Alcova Heights            0.0  0.007937               0.0         0.0   \n",
       "Arlington Forest          0.2  0.000000               0.0         0.0   \n",
       "Arlington Heights         0.0  0.000000               0.0         0.0   \n",
       "Arlington View            0.0  0.000000               0.0         0.0   \n",
       "Aurora Hills              0.0  0.007937               0.0         0.0   \n",
       "\n",
       "                   Thai Restaurant  Theater  Transportation  \n",
       "Neighborhood                                                 \n",
       "Alcova Heights            0.000000      0.0             0.0  \n",
       "Arlington Forest          0.066667      0.0             0.0  \n",
       "Arlington Heights         0.000000      0.4             0.0  \n",
       "Arlington View            0.000000      0.0             0.0  \n",
       "Aurora Hills              0.000000      0.2             0.0  "
      ]
     },
     "execution_count": 9,
     "metadata": {},
     "output_type": "execute_result"
    }
   ],
   "source": [
    "Arlington_grouped.head()"
   ]
  },
  {
   "cell_type": "code",
   "execution_count": 10,
   "metadata": {},
   "outputs": [
    {
     "data": {
      "text/html": [
       "<div>\n",
       "<style scoped>\n",
       "    .dataframe tbody tr th:only-of-type {\n",
       "        vertical-align: middle;\n",
       "    }\n",
       "\n",
       "    .dataframe tbody tr th {\n",
       "        vertical-align: top;\n",
       "    }\n",
       "\n",
       "    .dataframe thead th {\n",
       "        text-align: right;\n",
       "    }\n",
       "</style>\n",
       "<table border=\"1\" class=\"dataframe\">\n",
       "  <thead>\n",
       "    <tr style=\"text-align: right;\">\n",
       "      <th></th>\n",
       "      <th>Metro</th>\n",
       "    </tr>\n",
       "    <tr>\n",
       "      <th>Neighborhood</th>\n",
       "      <th></th>\n",
       "    </tr>\n",
       "  </thead>\n",
       "  <tbody>\n",
       "    <tr>\n",
       "      <th>Alcova Heights</th>\n",
       "      <td>0.0</td>\n",
       "    </tr>\n",
       "    <tr>\n",
       "      <th>Arlington Forest</th>\n",
       "      <td>0.0</td>\n",
       "    </tr>\n",
       "    <tr>\n",
       "      <th>Arlington Heights</th>\n",
       "      <td>0.0</td>\n",
       "    </tr>\n",
       "    <tr>\n",
       "      <th>Arlington View</th>\n",
       "      <td>0.0</td>\n",
       "    </tr>\n",
       "    <tr>\n",
       "      <th>Aurora Hills</th>\n",
       "      <td>0.0</td>\n",
       "    </tr>\n",
       "    <tr>\n",
       "      <th>Ballston</th>\n",
       "      <td>1.0</td>\n",
       "    </tr>\n",
       "    <tr>\n",
       "      <th>Barcroft</th>\n",
       "      <td>0.0</td>\n",
       "    </tr>\n",
       "    <tr>\n",
       "      <th>Bellevue Forest</th>\n",
       "      <td>0.0</td>\n",
       "    </tr>\n",
       "  </tbody>\n",
       "</table>\n",
       "</div>"
      ],
      "text/plain": [
       "                   Metro\n",
       "Neighborhood            \n",
       "Alcova Heights       0.0\n",
       "Arlington Forest     0.0\n",
       "Arlington Heights    0.0\n",
       "Arlington View       0.0\n",
       "Aurora Hills         0.0\n",
       "Ballston             1.0\n",
       "Barcroft             0.0\n",
       "Bellevue Forest      0.0"
      ]
     },
     "execution_count": 10,
     "metadata": {},
     "output_type": "execute_result"
    }
   ],
   "source": [
    "df_Metro.head(8)"
   ]
  },
  {
   "cell_type": "markdown",
   "metadata": {},
   "source": [
    "#### Let's confirm the sizes of the two DataFrames"
   ]
  },
  {
   "cell_type": "code",
   "execution_count": 11,
   "metadata": {},
   "outputs": [
    {
     "name": "stdout",
     "output_type": "stream",
     "text": [
      "(58, 27) (58, 1)\n"
     ]
    }
   ],
   "source": [
    "print(Arlington_grouped.shape, df_Metro.shape)"
   ]
  },
  {
   "cell_type": "code",
   "execution_count": 12,
   "metadata": {},
   "outputs": [
    {
     "name": "stdout",
     "output_type": "stream",
     "text": [
      "(58, 1)\n"
     ]
    }
   ],
   "source": [
    "y = df_Metro.reset_index()\n",
    "y = y.drop('Neighborhood',1)\n",
    "print(y.shape)\n",
    "y = np.asarray(y)"
   ]
  },
  {
   "cell_type": "code",
   "execution_count": 13,
   "metadata": {},
   "outputs": [
    {
     "name": "stdout",
     "output_type": "stream",
     "text": [
      "(58, 27)\n"
     ]
    }
   ],
   "source": [
    "X = Arlington_grouped.reset_index()\n",
    "X = X.drop('Neighborhood', 1)\n",
    "print(X.shape)\n",
    "X = np.asarray(X)"
   ]
  },
  {
   "cell_type": "code",
   "execution_count": 15,
   "metadata": {},
   "outputs": [
    {
     "name": "stdout",
     "output_type": "stream",
     "text": [
      "Train set: (46, 27) (46, 1)\n",
      "Test set: (12, 27) (12, 1)\n"
     ]
    }
   ],
   "source": [
    "from sklearn.model_selection import train_test_split\n",
    "X_train, X_test, y_train, y_test = train_test_split( X, y, test_size=0.2, random_state=4)\n",
    "print ('Train set:', X_train.shape,  y_train.shape)\n",
    "print ('Test set:' , X_test.shape ,  y_test.shape)"
   ]
  },
  {
   "cell_type": "markdown",
   "metadata": {},
   "source": [
    "## 5. Perform Logistic Regression"
   ]
  },
  {
   "cell_type": "code",
   "execution_count": 16,
   "metadata": {},
   "outputs": [],
   "source": [
    "from sklearn.linear_model import LogisticRegression\n",
    "from sklearn.metrics import confusion_matrix"
   ]
  },
  {
   "cell_type": "code",
   "execution_count": 17,
   "metadata": {},
   "outputs": [],
   "source": [
    "import matplotlib.pyplot as plt"
   ]
  },
  {
   "cell_type": "code",
   "execution_count": 18,
   "metadata": {
    "scrolled": false
   },
   "outputs": [
    {
     "name": "stderr",
     "output_type": "stream",
     "text": [
      "C:\\ProgramData\\Anaconda3\\lib\\site-packages\\sklearn\\utils\\validation.py:761: DataConversionWarning: A column-vector y was passed when a 1d array was expected. Please change the shape of y to (n_samples, ), for example using ravel().\n",
      "  y = column_or_1d(y, warn=True)\n"
     ]
    },
    {
     "data": {
      "text/plain": [
       "LogisticRegression(C=0.01, class_weight=None, dual=False, fit_intercept=True,\n",
       "          intercept_scaling=1, max_iter=100, multi_class='warn',\n",
       "          n_jobs=None, penalty='l2', random_state=None, solver='liblinear',\n",
       "          tol=0.0001, verbose=0, warm_start=False)"
      ]
     },
     "execution_count": 18,
     "metadata": {},
     "output_type": "execute_result"
    }
   ],
   "source": [
    "LR = LogisticRegression(C=0.01, solver='liblinear').fit(X_train,y_train)\n",
    "LR"
   ]
  },
  {
   "cell_type": "code",
   "execution_count": null,
   "metadata": {},
   "outputs": [],
   "source": [
    "df_coef = pd.DataFrame([])\n",
    "df_coef"
   ]
  },
  {
   "cell_type": "markdown",
   "metadata": {},
   "source": [
    "## 6. Evaluate the Logistic Regression Coefficient Matrix \n",
    "#### This shows the relative importance of a venue category in predicting if a neighborhood is a Metro Station\n",
    "Note that I've sorted in descending order"
   ]
  },
  {
   "cell_type": "code",
   "execution_count": 19,
   "metadata": {},
   "outputs": [
    {
     "name": "stdout",
     "output_type": "stream",
     "text": [
      "Intercept: [-0.13458407]\n"
     ]
    },
    {
     "data": {
      "text/html": [
       "<div>\n",
       "<style scoped>\n",
       "    .dataframe tbody tr th:only-of-type {\n",
       "        vertical-align: middle;\n",
       "    }\n",
       "\n",
       "    .dataframe tbody tr th {\n",
       "        vertical-align: top;\n",
       "    }\n",
       "\n",
       "    .dataframe thead th {\n",
       "        text-align: right;\n",
       "    }\n",
       "</style>\n",
       "<table border=\"1\" class=\"dataframe\">\n",
       "  <thead>\n",
       "    <tr style=\"text-align: right;\">\n",
       "      <th></th>\n",
       "      <th>Coefficient</th>\n",
       "    </tr>\n",
       "    <tr>\n",
       "      <th>Manually Categorized</th>\n",
       "      <th></th>\n",
       "    </tr>\n",
       "  </thead>\n",
       "  <tbody>\n",
       "    <tr>\n",
       "      <th>Food Court</th>\n",
       "      <td>0.005320</td>\n",
       "    </tr>\n",
       "    <tr>\n",
       "      <th>Salad</th>\n",
       "      <td>0.004144</td>\n",
       "    </tr>\n",
       "    <tr>\n",
       "      <th>Transportation</th>\n",
       "      <td>0.003527</td>\n",
       "    </tr>\n",
       "    <tr>\n",
       "      <th>Fast Fresh</th>\n",
       "      <td>0.002910</td>\n",
       "    </tr>\n",
       "    <tr>\n",
       "      <th>Food Truck</th>\n",
       "      <td>0.002737</td>\n",
       "    </tr>\n",
       "    <tr>\n",
       "      <th>Sushi Restaurant</th>\n",
       "      <td>0.002439</td>\n",
       "    </tr>\n",
       "    <tr>\n",
       "      <th>Burgers - Quality</th>\n",
       "      <td>0.002385</td>\n",
       "    </tr>\n",
       "    <tr>\n",
       "      <th>Bar</th>\n",
       "      <td>0.002370</td>\n",
       "    </tr>\n",
       "    <tr>\n",
       "      <th>Coffee/Breakfast</th>\n",
       "      <td>0.002363</td>\n",
       "    </tr>\n",
       "    <tr>\n",
       "      <th>Hotel</th>\n",
       "      <td>0.002347</td>\n",
       "    </tr>\n",
       "    <tr>\n",
       "      <th>Rental Car Location</th>\n",
       "      <td>0.001993</td>\n",
       "    </tr>\n",
       "    <tr>\n",
       "      <th>Bank</th>\n",
       "      <td>0.001457</td>\n",
       "    </tr>\n",
       "    <tr>\n",
       "      <th>Sandwich</th>\n",
       "      <td>0.001349</td>\n",
       "    </tr>\n",
       "    <tr>\n",
       "      <th>Store</th>\n",
       "      <td>0.000354</td>\n",
       "    </tr>\n",
       "    <tr>\n",
       "      <th>Restaurant</th>\n",
       "      <td>0.000095</td>\n",
       "    </tr>\n",
       "    <tr>\n",
       "      <th>Pizza</th>\n",
       "      <td>-0.000595</td>\n",
       "    </tr>\n",
       "    <tr>\n",
       "      <th>Steakhouse</th>\n",
       "      <td>-0.000801</td>\n",
       "    </tr>\n",
       "    <tr>\n",
       "      <th>Chinese</th>\n",
       "      <td>-0.000820</td>\n",
       "    </tr>\n",
       "    <tr>\n",
       "      <th>Health &amp; Recreation</th>\n",
       "      <td>-0.000878</td>\n",
       "    </tr>\n",
       "    <tr>\n",
       "      <th>Art and History</th>\n",
       "      <td>-0.000918</td>\n",
       "    </tr>\n",
       "    <tr>\n",
       "      <th>Market</th>\n",
       "      <td>-0.001006</td>\n",
       "    </tr>\n",
       "    <tr>\n",
       "      <th>Thai Restaurant</th>\n",
       "      <td>-0.001377</td>\n",
       "    </tr>\n",
       "    <tr>\n",
       "      <th>Taco Place</th>\n",
       "      <td>-0.001443</td>\n",
       "    </tr>\n",
       "    <tr>\n",
       "      <th>Fast Food</th>\n",
       "      <td>-0.001872</td>\n",
       "    </tr>\n",
       "    <tr>\n",
       "      <th>Ice Cream</th>\n",
       "      <td>-0.002516</td>\n",
       "    </tr>\n",
       "    <tr>\n",
       "      <th>Theater</th>\n",
       "      <td>-0.002797</td>\n",
       "    </tr>\n",
       "    <tr>\n",
       "      <th>Construction &amp; Landscaping</th>\n",
       "      <td>-0.003107</td>\n",
       "    </tr>\n",
       "  </tbody>\n",
       "</table>\n",
       "</div>"
      ],
      "text/plain": [
       "                            Coefficient\n",
       "Manually Categorized                   \n",
       "Food Court                     0.005320\n",
       "Salad                          0.004144\n",
       "Transportation                 0.003527\n",
       "Fast Fresh                     0.002910\n",
       "Food Truck                     0.002737\n",
       "Sushi Restaurant               0.002439\n",
       "Burgers - Quality              0.002385\n",
       "Bar                            0.002370\n",
       "Coffee/Breakfast               0.002363\n",
       "Hotel                          0.002347\n",
       "Rental Car Location            0.001993\n",
       "Bank                           0.001457\n",
       "Sandwich                       0.001349\n",
       "Store                          0.000354\n",
       "Restaurant                     0.000095\n",
       "Pizza                         -0.000595\n",
       "Steakhouse                    -0.000801\n",
       "Chinese                       -0.000820\n",
       "Health & Recreation           -0.000878\n",
       "Art and History               -0.000918\n",
       "Market                        -0.001006\n",
       "Thai Restaurant               -0.001377\n",
       "Taco Place                    -0.001443\n",
       "Fast Food                     -0.001872\n",
       "Ice Cream                     -0.002516\n",
       "Theater                       -0.002797\n",
       "Construction & Landscaping    -0.003107"
      ]
     },
     "execution_count": 19,
     "metadata": {},
     "output_type": "execute_result"
    }
   ],
   "source": [
    "df_coef  = pd.DataFrame(LR.coef_, columns=Arlington_grouped.columns.values,index=['Coefficient']).T\n",
    "df_coef.index.name = 'Manually Categorized'\n",
    "\n",
    "df_coef.sort_values(by=['Coefficient'],axis=0,inplace=True,ascending=False)\n",
    "print('Intercept:',LR.intercept_)\n",
    "df_coef"
   ]
  },
  {
   "cell_type": "markdown",
   "metadata": {},
   "source": [
    "#### Note that the model never does predict a Metro Station"
   ]
  },
  {
   "cell_type": "code",
   "execution_count": 20,
   "metadata": {},
   "outputs": [
    {
     "data": {
      "text/plain": [
       "array([0., 0., 0., 0., 0., 0., 0., 0., 0., 0., 0., 0., 0., 0., 0., 0., 0.,\n",
       "       0., 0., 0., 0., 0., 0., 0., 0., 0., 0., 0., 0., 0., 0., 0., 0., 0.,\n",
       "       0., 0., 0., 0., 0., 0., 0., 0., 0., 0., 0., 0., 0., 0., 0., 0., 0.,\n",
       "       0., 0., 0., 0., 0., 0., 0.])"
      ]
     },
     "execution_count": 20,
     "metadata": {},
     "output_type": "execute_result"
    }
   ],
   "source": [
    "yhat = LR.predict(X)\n",
    "yhat"
   ]
  },
  {
   "cell_type": "code",
   "execution_count": 21,
   "metadata": {},
   "outputs": [
    {
     "data": {
      "text/plain": [
       "array([0., 0., 0., 0., 0., 0., 0., 0., 0., 0., 0., 0.])"
      ]
     },
     "execution_count": 21,
     "metadata": {},
     "output_type": "execute_result"
    }
   ],
   "source": [
    "yhat = LR.predict(X_test)\n",
    "yhat"
   ]
  },
  {
   "cell_type": "markdown",
   "metadata": {},
   "source": [
    "#### The Jaccard score indicates that there is high confidence in betting against Metro Station"
   ]
  },
  {
   "cell_type": "code",
   "execution_count": 22,
   "metadata": {},
   "outputs": [
    {
     "data": {
      "text/plain": [
       "0.9166666666666666"
      ]
     },
     "execution_count": 22,
     "metadata": {},
     "output_type": "execute_result"
    }
   ],
   "source": [
    "from sklearn.metrics import jaccard_similarity_score\n",
    "jaccard_similarity_score(y_test, yhat)"
   ]
  },
  {
   "cell_type": "code",
   "execution_count": 23,
   "metadata": {
    "collapsed": true
   },
   "outputs": [
    {
     "data": {
      "text/plain": [
       "array([[0.53362402, 0.46637598],\n",
       "       [0.53365746, 0.46634254],\n",
       "       [0.53388947, 0.46611053],\n",
       "       [0.53354333, 0.46645667],\n",
       "       [0.53373764, 0.46626236],\n",
       "       [0.53336465, 0.46663535],\n",
       "       [0.53361231, 0.46638769],\n",
       "       [0.53385436, 0.46614564],\n",
       "       [0.53360372, 0.46639628],\n",
       "       [0.53359659, 0.46640341],\n",
       "       [0.53360184, 0.46639816],\n",
       "       [0.53360044, 0.46639956],\n",
       "       [0.53350372, 0.46649628],\n",
       "       [0.53359848, 0.46640152],\n",
       "       [0.5337215 , 0.4662785 ],\n",
       "       [0.53329945, 0.46670055],\n",
       "       [0.53363079, 0.46636921],\n",
       "       [0.53359589, 0.46640411],\n",
       "       [0.53276066, 0.46723934],\n",
       "       [0.5338531 , 0.4661469 ],\n",
       "       [0.5330544 , 0.4669456 ],\n",
       "       [0.53359785, 0.46640215],\n",
       "       [0.53362767, 0.46637233],\n",
       "       [0.53360473, 0.46639527],\n",
       "       [0.53351824, 0.46648176],\n",
       "       [0.5333943 , 0.4666057 ],\n",
       "       [0.53362388, 0.46637612],\n",
       "       [0.53359773, 0.46640227],\n",
       "       [0.5336635 , 0.4663365 ],\n",
       "       [0.53363062, 0.46636938],\n",
       "       [0.5335967 , 0.4664033 ],\n",
       "       [0.53360502, 0.46639498],\n",
       "       [0.53360516, 0.46639484],\n",
       "       [0.53391517, 0.46608483],\n",
       "       [0.53359659, 0.46640341],\n",
       "       [0.53354115, 0.46645885],\n",
       "       [0.53359659, 0.46640341],\n",
       "       [0.53358806, 0.46641194],\n",
       "       [0.53362767, 0.46637233],\n",
       "       [0.53362326, 0.46637674],\n",
       "       [0.5336008 , 0.4663992 ],\n",
       "       [0.53359911, 0.46640089],\n",
       "       [0.53355646, 0.46644354],\n",
       "       [0.53352644, 0.46647356],\n",
       "       [0.53351969, 0.46648031],\n",
       "       [0.53328679, 0.46671321],\n",
       "       [0.53357831, 0.46642169],\n",
       "       [0.53179889, 0.46820111],\n",
       "       [0.53362641, 0.46637359],\n",
       "       [0.53306451, 0.46693549],\n",
       "       [0.53362206, 0.46637794],\n",
       "       [0.53359659, 0.46640341],\n",
       "       [0.53226339, 0.46773661],\n",
       "       [0.53387288, 0.46612712],\n",
       "       [0.53364041, 0.46635959],\n",
       "       [0.53359589, 0.46640411],\n",
       "       [0.53352598, 0.46647402],\n",
       "       [0.53360038, 0.46639962]])"
      ]
     },
     "execution_count": 23,
     "metadata": {},
     "output_type": "execute_result"
    }
   ],
   "source": [
    "yhat_prob = LR.predict_proba(X)\n",
    "yhat_prob"
   ]
  },
  {
   "cell_type": "code",
   "execution_count": 24,
   "metadata": {},
   "outputs": [
    {
     "name": "stdout",
     "output_type": "stream",
     "text": [
      "[[ 0  1]\n",
      " [ 0 11]]\n"
     ]
    }
   ],
   "source": [
    "from sklearn.metrics import classification_report, confusion_matrix\n",
    "import itertools\n",
    "def plot_confusion_matrix(cm, classes,\n",
    "                          normalize=False,\n",
    "                          title='Confusion matrix',\n",
    "                          cmap=plt.cm.Blues):\n",
    "    \"\"\"\n",
    "    This function prints and plots the confusion matrix.\n",
    "    Normalization can be applied by setting `normalize=True`.\n",
    "    \"\"\"\n",
    "    if normalize:\n",
    "        cm = cm.astype('float') / cm.sum(axis=1)[:, np.newaxis]\n",
    "        print(\"Normalized confusion matrix\")\n",
    "    else:\n",
    "        print('Confusion matrix, without normalization')\n",
    "\n",
    "    print(cm)\n",
    "\n",
    "    plt.imshow(cm, interpolation='nearest', cmap=cmap)\n",
    "    plt.title(title)\n",
    "    plt.colorbar()\n",
    "    tick_marks = np.arange(len(classes))\n",
    "    plt.xticks(tick_marks, classes, rotation=45)\n",
    "    plt.yticks(tick_marks, classes)\n",
    "\n",
    "    fmt = '.2f' if normalize else 'd'\n",
    "    thresh = cm.max() / 2.\n",
    "    for i, j in itertools.product(range(cm.shape[0]), range(cm.shape[1])):\n",
    "        plt.text(j, i, format(cm[i, j], fmt),\n",
    "                 horizontalalignment=\"center\",\n",
    "                 color=\"white\" if cm[i, j] > thresh else \"black\")\n",
    "\n",
    "    plt.tight_layout()\n",
    "    plt.ylabel('True label')\n",
    "    plt.xlabel('Predicted label')\n",
    "print(confusion_matrix(y_test, yhat, labels=[1,0]))"
   ]
  },
  {
   "cell_type": "markdown",
   "metadata": {},
   "source": [
    "#### The confusion matrix indicates that it is best to always bet *against* the neighborhood being a Metro Station"
   ]
  },
  {
   "cell_type": "code",
   "execution_count": 25,
   "metadata": {},
   "outputs": [
    {
     "name": "stdout",
     "output_type": "stream",
     "text": [
      "Confusion matrix, without normalization\n",
      "[[ 0  1]\n",
      " [ 0 11]]\n"
     ]
    },
    {
     "data": {
      "image/png": "[encoded data removed]",
      "text/plain": [
       "<Figure size 432x288 with 2 Axes>"
      ]
     },
     "metadata": {
      "needs_background": "light"
     },
     "output_type": "display_data"
    }
   ],
   "source": [
    "# Compute confusion matrix\n",
    "cnf_matrix = confusion_matrix(y_test, yhat, labels=[1,0])\n",
    "np.set_printoptions(precision=2)\n",
    "\n",
    "\n",
    "# Plot non-normalized confusion matrix\n",
    "plt.figure()\n",
    "plot_confusion_matrix(cnf_matrix, classes=['Metro=1','Not Metro=0'],normalize= False,  title='Confusion matrix')"
   ]
  },
  {
   "cell_type": "markdown",
   "metadata": {},
   "source": [
    "## Conclusion"
   ]
  },
  {
   "cell_type": "markdown",
   "metadata": {},
   "source": [
    "The base expectation is that the neighborhood is not a Metro Station, with probability of -13%.  There are venues that increase the probability of a Metro Station, but none of them very much.  Even with over-fitting, the model does not predict Metro Stations, and it does not give false positives."
   ]
  },
  {
   "cell_type": "markdown",
   "metadata": {},
   "source": [
    "Thanks for reading this."
   ]
  }
 ],
 "metadata": {
  "kernelspec": {
   "display_name": "Python 3",
   "language": "python",
   "name": "python3"
  },
  "language_info": {
   "codemirror_mode": {
    "name": "ipython",
    "version": 3
   },
   "file_extension": ".py",
   "mimetype": "text/x-python",
   "name": "python",
   "nbconvert_exporter": "python",
   "pygments_lexer": "ipython3",
   "version": "3.7.1"
  },
  "widgets": {
   "state": {},
   "version": "1.1.2"
  }
 },
 "nbformat": 4,
 "nbformat_minor": 4
}
