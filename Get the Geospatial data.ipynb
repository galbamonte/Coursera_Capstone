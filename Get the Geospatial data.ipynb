{
    "nbformat_minor": 2, 
    "cells": [
        {
            "source": "# Segmenting and Clustering Neighborhoods in Toronto", 
            "cell_type": "markdown", 
            "metadata": {}
        }, 
        {
            "source": "### Import required libraries", 
            "cell_type": "markdown", 
            "metadata": {}
        }, 
        {
            "execution_count": null, 
            "cell_type": "code", 
            "metadata": {}, 
            "outputs": [], 
            "source": "#!pip install beautifulsoup4\n#!pip install lxml\n\nfrom bs4 import BeautifulSoup\nimport requests\nimport pandas as pd"
        }, 
        {
            "source": "## Get Canadian Postal Codes (M) from Wikipedia", 
            "cell_type": "markdown", 
            "metadata": {}
        }, 
        {
            "source": "### In a separate notebook, we parsed using Beautiful Soup", 
            "cell_type": "markdown", 
            "metadata": {}
        }, 
        {
            "source": "We did lots of clean-up and saved the result to a csv-file named 'Postal.csv'  \nNow, we're going to pick-it-up, so we can continue with the task of getting the geo-data  \nand combining into a single DataFrame.", 
            "cell_type": "markdown", 
            "metadata": {}
        }, 
        {
            "execution_count": null, 
            "cell_type": "code", 
            "metadata": {}, 
            "outputs": [], 
            "source": "df_zip = pd.read_csv('Postal.csv')\ndf_zip.head()"
        }, 
        {
            "execution_count": null, 
            "cell_type": "code", 
            "metadata": {}, 
            "outputs": [], 
            "source": "print(df_zip.shape)"
        }, 
        {
            "source": "## Get geospatial coordinates of zip codes and combine into a DataFrame", 
            "cell_type": "markdown", 
            "metadata": {}
        }, 
        {
            "source": "### This is how we would lookup geospatial coordinates using the Geocoder Python library", 
            "cell_type": "markdown", 
            "metadata": {}
        }, 
        {
            "execution_count": null, 
            "cell_type": "code", 
            "metadata": {}, 
            "outputs": [], 
            "source": "!pip install geocoder"
        }, 
        {
            "execution_count": null, 
            "cell_type": "code", 
            "metadata": {}, 
            "outputs": [], 
            "source": "import geocoder # import geocoder"
        }, 
        {
            "execution_count": null, 
            "cell_type": "code", 
            "metadata": {}, 
            "outputs": [], 
            "source": "for index in df_zip.index:\n    Postcode = df_zip['Postcode'].iloc[index]\n    Borough = df_zip['Borough'].iloc[index]\n    Neighbourhood = df_zip['Neighbourhood'].iloc[index]\n    \n    # initialize your variable to None\n    lat_lng_coords = None\n    latitude = 0\n    longitude = 0\n\n    count = 0\n    # loop until you get the coordinates\n    if False:   #The while loop never came back, so I abandoned Geocoder\n        while((lat_lng_coords is None) | (count >9) ):\n            g = geocoder.google('{}, Toronto, Ontario'.format(postal_code))\n            lat_lng_coords = g.latlng\n            count =+ 1\n\n        if lat_lng_coords is None:\n            latitude = 0\n            longitude = 0\n        else:\n            latitude = lat_lng_coords[0]\n            longitude = lat_lng_coords[1]\n\n#   print(Postcode, Borough, Neighbourhood, latitude, longitude)"
        }, 
        {
            "source": "### And this is how we actually get the geospatial data", 
            "cell_type": "markdown", 
            "metadata": {}
        }, 
        {
            "execution_count": null, 
            "cell_type": "code", 
            "metadata": {}, 
            "outputs": [], 
            "source": "!wget -q -O 'Geospatial_Coordinates.csv' https://cocl.us/Geospatial_data"
        }, 
        {
            "execution_count": null, 
            "cell_type": "code", 
            "metadata": {}, 
            "outputs": [], 
            "source": "df_geo = pd.read_csv('Geospatial_Coordinates.csv')\ndf_geo.rename(columns={'Postal Code':'Postcode'}, inplace=True)"
        }, 
        {
            "source": "Before we set the indexes, look at the shapes", 
            "cell_type": "markdown", 
            "metadata": {}
        }, 
        {
            "execution_count": null, 
            "cell_type": "code", 
            "metadata": {}, 
            "outputs": [], 
            "source": "print('Before setting Index')\nprint('    df_zip:',df_zip.shape)\nprint('    df_geo:',df_geo.shape)"
        }, 
        {
            "source": "It is helpful to use the index for each DataFrame", 
            "cell_type": "markdown", 
            "metadata": {}
        }, 
        {
            "execution_count": null, 
            "cell_type": "code", 
            "metadata": {}, 
            "outputs": [], 
            "source": "df_geo.set_index('Postcode', inplace=True)\ndf_zip.set_index('Postcode', inplace=True)\nprint('df_zip:',df_zip.shape)\nprint('df_geo:',df_geo.shape)"
        }, 
        {
            "execution_count": null, 
            "cell_type": "code", 
            "metadata": {}, 
            "outputs": [], 
            "source": "df_geo.head()"
        }, 
        {
            "source": "### Now, Join the two DataFrames, adding new columns, combining by matching Index", 
            "cell_type": "markdown", 
            "metadata": {}
        }, 
        {
            "execution_count": null, 
            "cell_type": "code", 
            "metadata": {}, 
            "outputs": [], 
            "source": "df_combined = df_zip.join(df_geo)\nprint(df_combined.shape)"
        }, 
        {
            "execution_count": null, 
            "cell_type": "code", 
            "metadata": {}, 
            "outputs": [], 
            "source": "# we save it with index=Postcode\ndf_combined.to_csv('Toronto.csv')"
        }, 
        {
            "execution_count": null, 
            "cell_type": "code", 
            "metadata": {}, 
            "outputs": [], 
            "source": "df_combined.reset_index(inplace=True)"
        }, 
        {
            "execution_count": null, 
            "cell_type": "code", 
            "metadata": {}, 
            "outputs": [], 
            "source": "df_combined"
        }, 
        {
            "execution_count": null, 
            "cell_type": "code", 
            "metadata": {}, 
            "outputs": [], 
            "source": "df_combined.shape"
        }, 
        {
            "execution_count": null, 
            "cell_type": "code", 
            "metadata": {}, 
            "outputs": [], 
            "source": ""
        }
    ], 
    "metadata": {
        "kernelspec": {
            "display_name": "Python 3.6", 
            "name": "python3", 
            "language": "python"
        }, 
        "language_info": {
            "mimetype": "text/x-python", 
            "nbconvert_exporter": "python", 
            "version": "3.6.8", 
            "name": "python", 
            "file_extension": ".py", 
            "pygments_lexer": "ipython3", 
            "codemirror_mode": {
                "version": 3, 
                "name": "ipython"
            }
        }
    }, 
    "nbformat": 4
}